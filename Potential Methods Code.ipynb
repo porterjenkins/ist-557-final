{
 "cells": [
  {
   "cell_type": "markdown",
   "metadata": {},
   "source": [
    "Potential code for testing different methods/models using nested 5-fold CV."
   ]
  },
  {
   "cell_type": "markdown",
   "metadata": {},
   "source": [
    "Read in needed packages."
   ]
  },
  {
   "cell_type": "code",
   "execution_count": null,
   "metadata": {
    "collapsed": true
   },
   "outputs": [],
   "source": [
    "import csv\n",
    "import os\n",
    "import numpy as np\n",
    "import pandas as pd\n",
    "\n",
    "from sklearn import preprocessing\n",
    "from sklearn.ensemble import RandomForestClassifier\n",
    "from sklearn import svm\n",
    "from sklearn.neighbors import KNeighborsClassifier"
   ]
  },
  {
   "cell_type": "markdown",
   "metadata": {},
   "source": [
    "Read in test and training data."
   ]
  },
  {
   "cell_type": "code",
   "execution_count": null,
   "metadata": {
    "collapsed": true
   },
   "outputs": [],
   "source": [
    "#set working directory\n",
    "os.chdir('/Users/brinberg/Desktop/ist-557-final/data')"
   ]
  },
  {
   "cell_type": "code",
   "execution_count": null,
   "metadata": {
    "collapsed": true
   },
   "outputs": [],
   "source": [
    "#reading in data\n",
    "train = pandas.read_csv('train_full_feature.csv', encoding='utf-8')\n",
    "train.head(n = 10)"
   ]
  },
  {
   "cell_type": "code",
   "execution_count": null,
   "metadata": {
    "collapsed": true
   },
   "outputs": [],
   "source": [
    "#reading in data\n",
    "test = pandas.read_csv('test_full_feature.csv', encoding='utf-8')\n",
    "test.head(n = 10)"
   ]
  },
  {
   "cell_type": "code",
   "execution_count": null,
   "metadata": {
    "collapsed": true
   },
   "outputs": [],
   "source": [
    "#convert both data sets to numpy arrays\n",
    "train1 = pd.DataFrame.as_matrix(train)\n",
    "test1 = pd.DataFrame.as_matrix(test)"
   ]
  },
  {
   "cell_type": "markdown",
   "metadata": {},
   "source": [
    "Separate features from outcome and standardize training and test data."
   ]
  },
  {
   "cell_type": "code",
   "execution_count": null,
   "metadata": {
    "collapsed": true
   },
   "outputs": [],
   "source": [
    "#update based on number of columns, also might need to get rid of column that is a user_id\n",
    "pred = train1[:, :500]"
   ]
  },
  {
   "cell_type": "code",
   "execution_count": null,
   "metadata": {
    "collapsed": true
   },
   "outputs": [],
   "source": [
    "#update based on number of columns\n",
    "outcome = train1[:, 500]"
   ]
  },
  {
   "cell_type": "markdown",
   "metadata": {},
   "source": [
    "Scale the features of the training and test data sets."
   ]
  },
  {
   "cell_type": "code",
   "execution_count": null,
   "metadata": {
    "collapsed": true
   },
   "outputs": [],
   "source": [
    "pred_scaled = preprocessing.scale(pred)"
   ]
  },
  {
   "cell_type": "code",
   "execution_count": null,
   "metadata": {
    "collapsed": true
   },
   "outputs": [],
   "source": [
    "testpred_scaled = preprocessing.scale(test1)"
   ]
  },
  {
   "cell_type": "markdown",
   "metadata": {},
   "source": [
    "Creating folds that will be used to evaluate all algorithms."
   ]
  },
  {
   "cell_type": "code",
   "execution_count": null,
   "metadata": {
    "collapsed": true
   },
   "outputs": [],
   "source": [
    "#these folds are not created randomly! need to update!\n",
    "X_folds = numpy.array_split(pred_scaled, 5)\n",
    "y_folds = numpy.array_split(outcome, 5)"
   ]
  },
  {
   "cell_type": "markdown",
   "metadata": {},
   "source": [
    "Evaluating Random Forest."
   ]
  },
  {
   "cell_type": "code",
   "execution_count": null,
   "metadata": {
    "collapsed": true
   },
   "outputs": [],
   "source": [
    "rf_clf = RandomForestClassifier(random_state=0) "
   ]
  },
  {
   "cell_type": "code",
   "execution_count": null,
   "metadata": {
    "collapsed": true
   },
   "outputs": [],
   "source": [
    "#set of parameters to test\n",
    "rf_param_grid = {\"n_estimators\": [10, 50, 100],\n",
    "              \"criterion\": [\"gini\"],\n",
    "              \"max_features\": [2, 3, 4, 5, 6],\n",
    "              \"min_samples_split\": [10],\n",
    "              \"max_depth\": [None],\n",
    "              \"min_samples_leaf\": [10],\n",
    "              \"max_leaf_nodes\": [None],\n",
    "              }"
   ]
  },
  {
   "cell_type": "code",
   "execution_count": null,
   "metadata": {
    "collapsed": true
   },
   "outputs": [],
   "source": [
    "rf_model = GridSearchCV(estimator = rf_clf, param_grid = rf_param_grid, cv = 5)"
   ]
  },
  {
   "cell_type": "code",
   "execution_count": null,
   "metadata": {
    "collapsed": true
   },
   "outputs": [],
   "source": [
    "#nested cross-validation\n",
    "scores = list()\n",
    "\n",
    "for k in range(5):\n",
    "    X_train = list(X_folds)\n",
    "    X_test  = X_train.pop(k)\n",
    "    X_train = numpy.concatenate(X_train)\n",
    "    y_train = list(y_folds)\n",
    "    y_test  = y_train.pop(k)\n",
    "    y_train = numpy.concatenate(y_train)\n",
    "    scores.append(rf_model.fit(X_train, y_train).score(X_test, y_test))\n",
    "    \n",
    "    print(\"Fold:\")\n",
    "    print(k)\n",
    "    print()\n",
    "    print(\"Accuracy:\")\n",
    "    print(rf_model.fit(X_train, y_train).score(X_test, y_test))\n",
    "    print()\n",
    "    print(\"Best parameters set found on development set:\")\n",
    "    print()\n",
    "    print(rf_model.best_params_)\n",
    "    print()"
   ]
  },
  {
   "cell_type": "markdown",
   "metadata": {},
   "source": [
    "Evaluate Multiple Class SVM. One against one approach? Or one against rest approach? Going with the latter for now."
   ]
  },
  {
   "cell_type": "code",
   "execution_count": null,
   "metadata": {
    "collapsed": true
   },
   "outputs": [],
   "source": [
    "svm_clf = svm.LinearSVC(random_state = 0)"
   ]
  },
  {
   "cell_type": "code",
   "execution_count": null,
   "metadata": {
    "collapsed": true
   },
   "outputs": [],
   "source": [
    "svm_param_grid = [\n",
    "  {\"C\": [1, 10, 100, 1000],\n",
    "  \"multi_class\": [\"ovr\"],\n",
    "  },\n",
    "]"
   ]
  },
  {
   "cell_type": "code",
   "execution_count": null,
   "metadata": {
    "collapsed": true
   },
   "outputs": [],
   "source": [
    "svm_model = GridSearchCV(estimator = svm_clf, param_grid = svm_param_grid, cv = 5)"
   ]
  },
  {
   "cell_type": "code",
   "execution_count": null,
   "metadata": {
    "collapsed": true
   },
   "outputs": [],
   "source": [
    "scores = list()\n",
    "\n",
    "for k in range(5):\n",
    "    X_train = list(X_folds)\n",
    "    X_test  = X_train.pop(k)\n",
    "    X_train = numpy.concatenate(X_train)\n",
    "    y_train = list(y_folds)\n",
    "    y_test  = y_train.pop(k)\n",
    "    y_train = numpy.concatenate(y_train)\n",
    "    scores.append(svm_model.fit(X_train, y_train).score(X_test, y_test))\n",
    "    \n",
    "    print ('Best C:',svm_model.best_estimator_.C)\n",
    "    print ('Accuracy:', svm_model.best_score_)"
   ]
  },
  {
   "cell_type": "markdown",
   "metadata": {},
   "source": [
    "Evaluate k-NN."
   ]
  },
  {
   "cell_type": "code",
   "execution_count": null,
   "metadata": {
    "collapsed": true
   },
   "outputs": [],
   "source": [
    "knn_clf = KNeighborsClassifier()"
   ]
  },
  {
   "cell_type": "code",
   "execution_count": null,
   "metadata": {
    "collapsed": true
   },
   "outputs": [],
   "source": [
    "# set of parameters to test\n",
    "knn_param_grid = {\"n_neighbors\": [1, 2, 3, 4, 5, 6, 7, 8, 9, 10],\n",
    "              \"weights\": ['uniform', 'distance'],\n",
    "              \"algorithm\": ['auto', 'ball_tree', 'kd_tree', 'brute']\n",
    "              }"
   ]
  },
  {
   "cell_type": "code",
   "execution_count": null,
   "metadata": {
    "collapsed": true
   },
   "outputs": [],
   "source": [
    "knn_model = GridSearchCV(estimator = knn_clf, param_grid = knn_param_grid, cv = 5)"
   ]
  },
  {
   "cell_type": "code",
   "execution_count": null,
   "metadata": {
    "collapsed": true
   },
   "outputs": [],
   "source": [
    "scores = list()\n",
    "\n",
    "for k in range(5):\n",
    "    X_train = list(X_folds)\n",
    "    X_test  = X_train.pop(k)\n",
    "    X_train = numpy.concatenate(X_train)\n",
    "    y_train = list(y_folds)\n",
    "    y_test  = y_train.pop(k)\n",
    "    y_train = numpy.concatenate(y_train)\n",
    "    scores.append(knn_model.fit(X_train, y_train).score(X_test, y_test))\n",
    "    \n",
    "    print ('Accuracy:', knn_model.fit(X_train, y_train).score(X_test, y_test))\n",
    "    print ('Parameters:', knn_model.best_params_)"
   ]
  }
 ],
 "metadata": {
  "kernelspec": {
   "display_name": "Python 3",
   "language": "python",
   "name": "python3"
  },
  "language_info": {
   "codemirror_mode": {
    "name": "ipython",
    "version": 3
   },
   "file_extension": ".py",
   "mimetype": "text/x-python",
   "name": "python",
   "nbconvert_exporter": "python",
   "pygments_lexer": "ipython3",
   "version": "3.5.1"
  }
 },
 "nbformat": 4,
 "nbformat_minor": 0
}
